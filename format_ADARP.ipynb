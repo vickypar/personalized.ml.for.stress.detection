{
 "cells": [
  {
   "cell_type": "code",
   "execution_count": 1,
   "id": "9843f84e",
   "metadata": {},
   "outputs": [],
   "source": [
    "from pandas import read_csv\n",
    "import numpy as np\n",
    "from scipy import stats\n",
    "from os import listdir\n",
    "import format\n",
    "\n",
    "\n",
    "#data directory\n",
    "data_dir = \"ADARP/\"\n",
    "\n",
    "#list of features\n",
    "features = ['ACC','BVP','EDA','TEMP']\n",
    "\n",
    "#samlping frequencies\n",
    "ACC_SF = 32\n",
    "BVP_SF = 64\n",
    "EDA_SF = 4\n",
    "TEMP_SF = 4\n",
    "\n",
    "#dimensions of each window arrays\n",
    "\n",
    "#sampling frequencies in a dictionary\n",
    "SF_dict = {'ACC':ACC_SF, 'BVP':BVP_SF, 'EDA':EDA_SF, 'TEMP':TEMP_SF}\n"
   ]
  },
  {
   "cell_type": "code",
   "execution_count": 2,
   "id": "03567316",
   "metadata": {},
   "outputs": [],
   "source": [
    "def get_subject_data(path):\n",
    "    \"\"\"\n",
    "        @brief returns an array containing the data of the given csv file\n",
    "        @return The dictionary of data in the file, with labels\n",
    "    \"\"\"\n",
    "    #dictionary for data with empty numpy arrays to store\n",
    "    data = {'data': {'ACC':np.empty((0,int(ACC_SF*60),3)), 'BVP':np.empty((0,int(BVP_SF*60),1)),\n",
    "            'EDA':np.empty((0,int(EDA_SF*60),1)), 'TEMP':np.empty((0,int(TEMP_SF*60),1))},\n",
    "                'labels':[]}\n",
    "\n",
    "    #get files in subject's directory, this will be ordered as 0, 1, 10, 2, 3 ...\n",
    "    #because listdir is in alphabetical order, it makes no real difference\n",
    "    files = listdir(path)\n",
    "\n",
    "    #gather data from each data file\n",
    "    for f_name in files:\n",
    "        temp = {'ACC':np.empty((0,int(ACC_SF*60),3)), 'BVP':np.empty((0,int(BVP_SF)*60)),\n",
    "                'EDA':np.empty((0,int(EDA_SF*60))), 'TEMP':np.empty((0,int(TEMP_SF*60)))}\n",
    "        #gather data for each feature\n",
    "        for feat in features:\n",
    "            #read file\n",
    "            file = read_csv(path + f_name + '/' + feat + '.csv', header = None)\n",
    "            #get timestamp, this is done for each feature but shouldn't change\n",
    "            start_time = int(np.array(file)[0,0])\n",
    "\n",
    "            #get sensor values and form into one minute windows (50% overlap)\n",
    "            values = format.create_windows(file[2:], SF_dict[feat], 60)\n",
    "            #cut off the last window because a full window is not complete\n",
    "            values = values[:-1]\n",
    "\n",
    "            temp[feat] = np.array(values)\n",
    "\n",
    "        #assign label to 20 minutes\n",
    "        #start with labels array as all nonstress\n",
    "        labels = np.zeros(len(temp['ACC']))\n",
    "\n",
    "        #get the timestamps for stress\n",
    "        #using a try statement in case there are no tags\n",
    "        try:\n",
    "            tags = np.array(read_csv(path + f_name + '/tags.csv', header = None))\n",
    "            #reshape the tags to be only one dimensional\n",
    "            tags = np.reshape(tags, len(tags))\n",
    "            #subtract the start time from the tag time\n",
    "            tags = tags - start_time\n",
    "            #find which minute this number of seconds corresponds to\n",
    "            tags = np.around(tags/60)\n",
    "            #multiply by two because of the overlap\n",
    "            tags = tags * 2\n",
    "\n",
    "            #reasign labels around the tag\n",
    "            for tag in tags:\n",
    "                #hour around tag (doubled because of overlap)\n",
    "                for x in range(int(tag)-120, int(tag)+120):\n",
    "                    #only change the label if it is within the length of the data\n",
    "                    if x >= 0 and x < len(labels):\n",
    "                        #if tag is within 20 minutes (40 datapoints) set to stress label\n",
    "                        if x in range(int(tag)-20, int(tag)+20):\n",
    "                            labels[x] = 1\n",
    "                        #otherwise set to 'need to be removed' label\n",
    "                        #in case of overlap make sure not to overwrite stress labels\n",
    "                        elif labels[x] != 1:\n",
    "                            labels[x] = 2\n",
    "        except:\n",
    "            pass\n",
    "\n",
    "        #make sure all modalities have the same number of windows\n",
    "        lengths = [len(temp['ACC']),len(temp['BVP']),len(temp['EDA']),len(temp['TEMP']), len(labels)]\n",
    "\n",
    "        #truncate to make all modalities the same length\n",
    "        if len(np.unique(lengths)) > 1:\n",
    "            length = np.min(np.unique(lengths))\n",
    "            for feat in features:\n",
    "                temp[feat] = temp[feat][:length]\n",
    "            labels = labels[:length]\n",
    "\n",
    "        #remove labels and datapoints at the 'need to be removed' label\n",
    "        for feat in features:\n",
    "            temp[feat] = temp[feat][labels != 2]\n",
    "        labels = labels[labels != 2]\n",
    "\n",
    "        #append the data from the file to the overall subject  data\n",
    "        for feat in features:\n",
    "            #some files contain less than a minute of data, and will be ignored\n",
    "            if np.size(temp[feat]) > 0:\n",
    "                data['data'][feat] = np.append(data['data'][feat],temp[feat],0)\n",
    "        data['labels'] = np.append(data['labels'],labels,0)\n",
    "\n",
    "    return data\n"
   ]
  },
  {
   "cell_type": "code",
   "execution_count": 17,
   "id": "6873653d",
   "metadata": {},
   "outputs": [],
   "source": [
    "def save_all():\n",
    "    \"\"\"\n",
    "        @breif saves individual and combined raw and statistical data\n",
    "    \"\"\"\n",
    "    #list of all subject files\n",
    "    subjects = listdir(data_dir)\n",
    "\n",
    "    #dictionaries for storing data\n",
    "    all_raw = {'data': {'ACC':np.empty((0,int(ACC_SF*60),3)), 'BVP':np.empty((0,int(BVP_SF*60),1)),\n",
    "            'EDA':np.empty((0,int(EDA_SF*60),1)), 'TEMP':np.empty((0,int(TEMP_SF*60),1)), 'id':np.empty((0,0,1))},\n",
    "                'labels':[]}\n",
    "    all_stat = {'data': {'ACC':np.empty((0,8,3)), 'BVP':np.empty((0,8,1)),\n",
    "            'EDA':np.empty((0,8,1)), 'TEMP':np.empty((0,8,1))},\n",
    "                'labels':[]}\n",
    "\n",
    "    for x in range(0, len(subjects)):\n",
    "        #get subject data\n",
    "        subject = get_subject_data(data_dir + '/' + subjects[x] + '/')\n",
    "        #get statistical values\n",
    "        stat = format.get_statistics(subject)\n",
    "        #save statistical data\n",
    "        #format.save_data('Formatted_ADARP/Statistical/S'+str(x)+'.pkl', stat)\n",
    "\n",
    "        for feat in features:\n",
    "            subject['data'][feat] = format.norm(subject['data'][feat])\n",
    "        #format.save_data('Formatted_ADARP/Raw/S'+str(x)+'.pkl', subject)\n",
    "\n",
    "        #append data to dictionaries\n",
    "        for feat in features:\n",
    "            #raw\n",
    "            all_raw['data'][feat] = np.append(all_raw['data'][feat],subject['data'][feat],0)\n",
    "            #statistical\n",
    "            all_stat['data'][feat] = np.append(all_stat['data'][feat],stat['data'][feat],0)\n",
    "        #raw\n",
    "        all_raw['labels'] = np.append(all_raw['labels'], subject['labels'],0)\n",
    "        all_raw['data']['id'] = np.append(all_raw['data']['id'], np.full(subject['labels'].size, str(x)), 0)\n",
    "        #statistical\n",
    "        all_stat['labels'] = np.append(all_stat['labels'], stat['labels'],0)\n",
    "        #all_stat['id'] = np.append(all_stat['id'], np.full(stat['labels'].size, str(x)), 0)\n",
    "\n",
    "        print(\"Finished file \" + str(x))\n",
    "\n",
    "    #save combined dictionaries\n",
    "    format.save_data('Formatted_ADARP/Raw/All_ID3.pkl', all_raw)\n",
    "    #format.save_data('Formatted_ADARP/Statistical/All_ID.pkl', all_stat)\n",
    "\n"
   ]
  },
  {
   "cell_type": "code",
   "execution_count": 18,
   "id": "500cb827",
   "metadata": {},
   "outputs": [
    {
     "ename": "ValueError",
     "evalue": "all the input arrays must have same number of dimensions, but the array at index 0 has 3 dimension(s) and the array at index 1 has 1 dimension(s)",
     "output_type": "error",
     "traceback": [
      "\u001b[1;31m---------------------------------------------------------------------------\u001b[0m",
      "\u001b[1;31mValueError\u001b[0m                                Traceback (most recent call last)",
      "\u001b[1;32m~\\AppData\\Local\\Temp/ipykernel_36356/4058052910.py\u001b[0m in \u001b[0;36m<module>\u001b[1;34m\u001b[0m\n\u001b[1;32m----> 1\u001b[1;33m \u001b[0msave_all\u001b[0m\u001b[1;33m(\u001b[0m\u001b[1;33m)\u001b[0m\u001b[1;33m\u001b[0m\u001b[1;33m\u001b[0m\u001b[0m\n\u001b[0m",
      "\u001b[1;32m~\\AppData\\Local\\Temp/ipykernel_36356/1563197884.py\u001b[0m in \u001b[0;36msave_all\u001b[1;34m()\u001b[0m\n\u001b[0;32m     34\u001b[0m         \u001b[1;31m#raw\u001b[0m\u001b[1;33m\u001b[0m\u001b[1;33m\u001b[0m\u001b[0m\n\u001b[0;32m     35\u001b[0m         \u001b[0mall_raw\u001b[0m\u001b[1;33m[\u001b[0m\u001b[1;34m'labels'\u001b[0m\u001b[1;33m]\u001b[0m \u001b[1;33m=\u001b[0m \u001b[0mnp\u001b[0m\u001b[1;33m.\u001b[0m\u001b[0mappend\u001b[0m\u001b[1;33m(\u001b[0m\u001b[0mall_raw\u001b[0m\u001b[1;33m[\u001b[0m\u001b[1;34m'labels'\u001b[0m\u001b[1;33m]\u001b[0m\u001b[1;33m,\u001b[0m \u001b[0msubject\u001b[0m\u001b[1;33m[\u001b[0m\u001b[1;34m'labels'\u001b[0m\u001b[1;33m]\u001b[0m\u001b[1;33m,\u001b[0m\u001b[1;36m0\u001b[0m\u001b[1;33m)\u001b[0m\u001b[1;33m\u001b[0m\u001b[1;33m\u001b[0m\u001b[0m\n\u001b[1;32m---> 36\u001b[1;33m         \u001b[0mall_raw\u001b[0m\u001b[1;33m[\u001b[0m\u001b[1;34m'data'\u001b[0m\u001b[1;33m]\u001b[0m\u001b[1;33m[\u001b[0m\u001b[1;34m'id'\u001b[0m\u001b[1;33m]\u001b[0m \u001b[1;33m=\u001b[0m \u001b[0mnp\u001b[0m\u001b[1;33m.\u001b[0m\u001b[0mappend\u001b[0m\u001b[1;33m(\u001b[0m\u001b[0mall_raw\u001b[0m\u001b[1;33m[\u001b[0m\u001b[1;34m'data'\u001b[0m\u001b[1;33m]\u001b[0m\u001b[1;33m[\u001b[0m\u001b[1;34m'id'\u001b[0m\u001b[1;33m]\u001b[0m\u001b[1;33m,\u001b[0m \u001b[0mnp\u001b[0m\u001b[1;33m.\u001b[0m\u001b[0mfull\u001b[0m\u001b[1;33m(\u001b[0m\u001b[0msubject\u001b[0m\u001b[1;33m[\u001b[0m\u001b[1;34m'labels'\u001b[0m\u001b[1;33m]\u001b[0m\u001b[1;33m.\u001b[0m\u001b[0msize\u001b[0m\u001b[1;33m,\u001b[0m \u001b[0mstr\u001b[0m\u001b[1;33m(\u001b[0m\u001b[0mx\u001b[0m\u001b[1;33m)\u001b[0m\u001b[1;33m)\u001b[0m\u001b[1;33m,\u001b[0m \u001b[1;36m0\u001b[0m\u001b[1;33m)\u001b[0m\u001b[1;33m\u001b[0m\u001b[1;33m\u001b[0m\u001b[0m\n\u001b[0m\u001b[0;32m     37\u001b[0m         \u001b[1;31m#statistical\u001b[0m\u001b[1;33m\u001b[0m\u001b[1;33m\u001b[0m\u001b[0m\n\u001b[0;32m     38\u001b[0m         \u001b[0mall_stat\u001b[0m\u001b[1;33m[\u001b[0m\u001b[1;34m'labels'\u001b[0m\u001b[1;33m]\u001b[0m \u001b[1;33m=\u001b[0m \u001b[0mnp\u001b[0m\u001b[1;33m.\u001b[0m\u001b[0mappend\u001b[0m\u001b[1;33m(\u001b[0m\u001b[0mall_stat\u001b[0m\u001b[1;33m[\u001b[0m\u001b[1;34m'labels'\u001b[0m\u001b[1;33m]\u001b[0m\u001b[1;33m,\u001b[0m \u001b[0mstat\u001b[0m\u001b[1;33m[\u001b[0m\u001b[1;34m'labels'\u001b[0m\u001b[1;33m]\u001b[0m\u001b[1;33m,\u001b[0m\u001b[1;36m0\u001b[0m\u001b[1;33m)\u001b[0m\u001b[1;33m\u001b[0m\u001b[1;33m\u001b[0m\u001b[0m\n",
      "\u001b[1;32m~\\AppData\\Roaming\\Python\\Python39\\site-packages\\numpy\\core\\overrides.py\u001b[0m in \u001b[0;36mappend\u001b[1;34m(*args, **kwargs)\u001b[0m\n",
      "\u001b[1;32m~\\AppData\\Roaming\\Python\\Python39\\site-packages\\numpy\\lib\\function_base.py\u001b[0m in \u001b[0;36mappend\u001b[1;34m(arr, values, axis)\u001b[0m\n\u001b[0;32m   5390\u001b[0m         \u001b[0mvalues\u001b[0m \u001b[1;33m=\u001b[0m \u001b[0mravel\u001b[0m\u001b[1;33m(\u001b[0m\u001b[0mvalues\u001b[0m\u001b[1;33m)\u001b[0m\u001b[1;33m\u001b[0m\u001b[1;33m\u001b[0m\u001b[0m\n\u001b[0;32m   5391\u001b[0m         \u001b[0maxis\u001b[0m \u001b[1;33m=\u001b[0m \u001b[0marr\u001b[0m\u001b[1;33m.\u001b[0m\u001b[0mndim\u001b[0m\u001b[1;33m-\u001b[0m\u001b[1;36m1\u001b[0m\u001b[1;33m\u001b[0m\u001b[1;33m\u001b[0m\u001b[0m\n\u001b[1;32m-> 5392\u001b[1;33m     \u001b[1;32mreturn\u001b[0m \u001b[0mconcatenate\u001b[0m\u001b[1;33m(\u001b[0m\u001b[1;33m(\u001b[0m\u001b[0marr\u001b[0m\u001b[1;33m,\u001b[0m \u001b[0mvalues\u001b[0m\u001b[1;33m)\u001b[0m\u001b[1;33m,\u001b[0m \u001b[0maxis\u001b[0m\u001b[1;33m=\u001b[0m\u001b[0maxis\u001b[0m\u001b[1;33m)\u001b[0m\u001b[1;33m\u001b[0m\u001b[1;33m\u001b[0m\u001b[0m\n\u001b[0m\u001b[0;32m   5393\u001b[0m \u001b[1;33m\u001b[0m\u001b[0m\n\u001b[0;32m   5394\u001b[0m \u001b[1;33m\u001b[0m\u001b[0m\n",
      "\u001b[1;32m~\\AppData\\Roaming\\Python\\Python39\\site-packages\\numpy\\core\\overrides.py\u001b[0m in \u001b[0;36mconcatenate\u001b[1;34m(*args, **kwargs)\u001b[0m\n",
      "\u001b[1;31mValueError\u001b[0m: all the input arrays must have same number of dimensions, but the array at index 0 has 3 dimension(s) and the array at index 1 has 1 dimension(s)"
     ]
    }
   ],
   "source": [
    "save_all()"
   ]
  },
  {
   "cell_type": "code",
   "execution_count": 1,
   "id": "d02f4e45",
   "metadata": {},
   "outputs": [],
   "source": [
    "import pandas as pd"
   ]
  },
  {
   "cell_type": "code",
   "execution_count": 8,
   "id": "c3393fef",
   "metadata": {},
   "outputs": [],
   "source": [
    "data = pd.read_pickle('Formatted_ADARP/Raw/All.pkl')"
   ]
  },
  {
   "cell_type": "code",
   "execution_count": 12,
   "id": "f5f2f441",
   "metadata": {},
   "outputs": [
    {
     "data": {
      "text/plain": [
       "array([[[-775.4941612 ],\n",
       "        [-775.4941612 ],\n",
       "        [-775.4941612 ],\n",
       "        ...,\n",
       "        [-633.54387032],\n",
       "        [-633.54387032],\n",
       "        [-633.54387032]],\n",
       "\n",
       "       [[-758.79412698],\n",
       "        [-758.79412698],\n",
       "        [-758.79412698],\n",
       "        ...,\n",
       "        [-533.34366499],\n",
       "        [-533.34366499],\n",
       "        [-533.34366499]],\n",
       "\n",
       "       [[-633.54387032],\n",
       "        [-633.54387032],\n",
       "        [-633.54387032],\n",
       "        ...,\n",
       "        [-516.64363077],\n",
       "        [-516.64363077],\n",
       "        [-516.64363077]],\n",
       "\n",
       "       ...,\n",
       "\n",
       "       [[3795.59851702],\n",
       "        [3795.59851702],\n",
       "        [3795.59851702],\n",
       "        ...,\n",
       "        [3731.55665385],\n",
       "        [3731.55665385],\n",
       "        [3731.55665385]],\n",
       "\n",
       "       [[3757.17339912],\n",
       "        [3757.17339912],\n",
       "        [3757.17339912],\n",
       "        ...,\n",
       "        [3641.89804541],\n",
       "        [3641.89804541],\n",
       "        [3641.89804541]],\n",
       "\n",
       "       [[3744.36502648],\n",
       "        [3744.36502648],\n",
       "        [3744.36502648],\n",
       "        ...,\n",
       "        [3603.47292751],\n",
       "        [3603.47292751],\n",
       "        [3603.47292751]]])"
      ]
     },
     "execution_count": 12,
     "metadata": {},
     "output_type": "execute_result"
    }
   ],
   "source": [
    "data['data']['TEMP']"
   ]
  },
  {
   "cell_type": "code",
   "execution_count": 2,
   "id": "4cf00dce",
   "metadata": {},
   "outputs": [],
   "source": [
    "data = pd.read_pickle('Formatted_ADARP/Raw/All_ID2.pkl')"
   ]
  },
  {
   "cell_type": "code",
   "execution_count": 3,
   "id": "b976fd63",
   "metadata": {},
   "outputs": [
    {
     "data": {
      "text/plain": [
       "dict_keys(['ACC', 'BVP', 'EDA', 'TEMP', 'id'])"
      ]
     },
     "execution_count": 3,
     "metadata": {},
     "output_type": "execute_result"
    }
   ],
   "source": [
    "data[\"data\"].keys()"
   ]
  },
  {
   "cell_type": "code",
   "execution_count": 5,
   "id": "c567d5e1",
   "metadata": {},
   "outputs": [
    {
     "data": {
      "text/plain": [
       "array([], shape=(0, 1, 1), dtype=float64)"
      ]
     },
     "execution_count": 5,
     "metadata": {},
     "output_type": "execute_result"
    }
   ],
   "source": [
    "np.empty((0,1,1))"
   ]
  },
  {
   "cell_type": "code",
   "execution_count": 10,
   "id": "a44fb7ee",
   "metadata": {},
   "outputs": [
    {
     "data": {
      "text/plain": [
       "(163577, 240, 1)"
      ]
     },
     "execution_count": 10,
     "metadata": {},
     "output_type": "execute_result"
    }
   ],
   "source": [
    "data[\"data\"]['TEMP'].shape"
   ]
  },
  {
   "cell_type": "code",
   "execution_count": 16,
   "id": "4a847a84",
   "metadata": {},
   "outputs": [
    {
     "data": {
      "text/plain": [
       "(4,)"
      ]
     },
     "execution_count": 16,
     "metadata": {},
     "output_type": "execute_result"
    }
   ],
   "source": [
    "np.full(4, 1).shape"
   ]
  },
  {
   "cell_type": "code",
   "execution_count": null,
   "id": "c7924ca9",
   "metadata": {},
   "outputs": [],
   "source": []
  }
 ],
 "metadata": {
  "kernelspec": {
   "display_name": "Python 3 (ipykernel)",
   "language": "python",
   "name": "python3"
  },
  "language_info": {
   "codemirror_mode": {
    "name": "ipython",
    "version": 3
   },
   "file_extension": ".py",
   "mimetype": "text/x-python",
   "name": "python",
   "nbconvert_exporter": "python",
   "pygments_lexer": "ipython3",
   "version": "3.9.7"
  }
 },
 "nbformat": 4,
 "nbformat_minor": 5
}
